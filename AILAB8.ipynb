{
  "nbformat": 4,
  "nbformat_minor": 0,
  "metadata": {
    "colab": {
      "name": "AILAB8",
      "provenance": [],
      "authorship_tag": "ABX9TyPLaxeDXEn2TasSrdDKi92R",
      "include_colab_link": true
    },
    "kernelspec": {
      "name": "python3",
      "display_name": "Python 3"
    },
    "language_info": {
      "name": "python"
    }
  },
  "cells": [
    {
      "cell_type": "markdown",
      "metadata": {
        "id": "view-in-github",
        "colab_type": "text"
      },
      "source": [
        "<a href=\"https://colab.research.google.com/github/Sruthi-2002/Athena/blob/main/AILAB8.ipynb\" target=\"_parent\"><img src=\"https://colab.research.google.com/assets/colab-badge.svg\" alt=\"Open In Colab\"/></a>"
      ]
    },
    {
      "cell_type": "code",
      "execution_count": 1,
      "metadata": {
        "colab": {
          "base_uri": "https://localhost:8080/"
        },
        "id": "rNibPHUlOFVE",
        "outputId": "cc8d8214-85a1-41d5-d4b3-dc007879e90c"
      },
      "outputs": [
        {
          "output_type": "stream",
          "name": "stdout",
          "text": [
            "Mounted at /content/gdrive\n"
          ]
        }
      ],
      "source": [
        "from google.colab import drive\n",
        "drive.mount('/content/gdrive')"
      ]
    },
    {
      "cell_type": "code",
      "source": [
        "cd /content/gdrive/My Drive/AILAB9"
      ],
      "metadata": {
        "colab": {
          "base_uri": "https://localhost:8080/"
        },
        "id": "-RcP8yqaPT82",
        "outputId": "b4b4db8e-d6ac-4cc9-c820-342ee120b932"
      },
      "execution_count": 20,
      "outputs": [
        {
          "output_type": "stream",
          "name": "stdout",
          "text": [
            "/content/gdrive/My Drive/AILAB9\n"
          ]
        }
      ]
    },
    {
      "cell_type": "code",
      "source": [
        "ls"
      ],
      "metadata": {
        "colab": {
          "base_uri": "https://localhost:8080/"
        },
        "id": "vEZmpQobQblq",
        "outputId": "d9806792-80ab-43b4-8411-388dd61cc802"
      },
      "execution_count": 19,
      "outputs": [
        {
          "output_type": "stream",
          "name": "stdout",
          "text": [
            "DATASET.xlsx  final.csv\n"
          ]
        }
      ]
    },
    {
      "cell_type": "code",
      "source": [
        "import pandas as pd"
      ],
      "metadata": {
        "id": "PMO4yTi0Qgz3"
      },
      "execution_count": 11,
      "outputs": []
    },
    {
      "cell_type": "code",
      "source": [
        "data=pd.read_csv(\"final.csv\")\n",
        "data.info()"
      ],
      "metadata": {
        "colab": {
          "base_uri": "https://localhost:8080/"
        },
        "id": "Op96Ezq9QjZz",
        "outputId": "476828e1-26e8-4fac-889c-3885d1681fb6"
      },
      "execution_count": 21,
      "outputs": [
        {
          "output_type": "stream",
          "name": "stdout",
          "text": [
            "<class 'pandas.core.frame.DataFrame'>\n",
            "RangeIndex: 18 entries, 0 to 17\n",
            "Data columns (total 17 columns):\n",
            " #   Column       Non-Null Count  Dtype  \n",
            "---  ------       --------------  -----  \n",
            " 0   day          14 non-null     object \n",
            " 1   outlook      15 non-null     object \n",
            " 2   temp         15 non-null     object \n",
            " 3   humidity     15 non-null     object \n",
            " 4   wind         15 non-null     object \n",
            " 5   temp.1       2 non-null      float64\n",
            " 6   play         15 non-null     object \n",
            " 7   Unnamed: 7   1 non-null      object \n",
            " 8   Unnamed: 8   6 non-null      object \n",
            " 9   Unnamed: 9   4 non-null      object \n",
            " 10  Unnamed: 10  1 non-null      object \n",
            " 11  Unnamed: 11  0 non-null      float64\n",
            " 12  Unnamed: 12  2 non-null      object \n",
            " 13  Unnamed: 13  10 non-null     object \n",
            " 14  Unnamed: 14  6 non-null      object \n",
            " 15  Unnamed: 15  6 non-null      object \n",
            " 16  Unnamed: 16  6 non-null      object \n",
            "dtypes: float64(2), object(15)\n",
            "memory usage: 2.5+ KB\n"
          ]
        }
      ]
    }
  ]
}